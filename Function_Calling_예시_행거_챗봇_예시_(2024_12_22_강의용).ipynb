{
  "nbformat": 4,
  "nbformat_minor": 0,
  "metadata": {
    "colab": {
      "provenance": [],
      "include_colab_link": true
    },
    "kernelspec": {
      "name": "python3",
      "display_name": "Python 3"
    },
    "language_info": {
      "name": "python"
    }
  },
  "cells": [
    {
      "cell_type": "markdown",
      "metadata": {
        "id": "view-in-github",
        "colab_type": "text"
      },
      "source": [
        "<a href=\"https://colab.research.google.com/github/SoraKim9437/drwho_project/blob/master/Function_Calling_%EC%98%88%EC%8B%9C_%ED%96%89%EA%B1%B0_%EC%B1%97%EB%B4%87_%EC%98%88%EC%8B%9C_(2024_12_22_%EA%B0%95%EC%9D%98%EC%9A%A9).ipynb\" target=\"_parent\"><img src=\"https://colab.research.google.com/assets/colab-badge.svg\" alt=\"Open In Colab\"/></a>"
      ]
    },
    {
      "cell_type": "code",
      "execution_count": null,
      "metadata": {
        "colab": {
          "base_uri": "https://localhost:8080/"
        },
        "id": "hQqJACl5Qali",
        "outputId": "497ed5a9-25fc-494e-9098-8ededc4e216d"
      },
      "outputs": [
        {
          "output_type": "stream",
          "name": "stdout",
          "text": [
            "Collecting openai\n",
            "  Downloading openai-1.51.0-py3-none-any.whl.metadata (24 kB)\n",
            "Requirement already satisfied: anyio<5,>=3.5.0 in /usr/local/lib/python3.10/dist-packages (from openai) (3.7.1)\n",
            "Requirement already satisfied: distro<2,>=1.7.0 in /usr/lib/python3/dist-packages (from openai) (1.7.0)\n",
            "Collecting httpx<1,>=0.23.0 (from openai)\n",
            "  Downloading httpx-0.27.2-py3-none-any.whl.metadata (7.1 kB)\n",
            "Collecting jiter<1,>=0.4.0 (from openai)\n",
            "  Downloading jiter-0.5.0-cp310-cp310-manylinux_2_17_x86_64.manylinux2014_x86_64.whl.metadata (3.6 kB)\n",
            "Requirement already satisfied: pydantic<3,>=1.9.0 in /usr/local/lib/python3.10/dist-packages (from openai) (2.9.2)\n",
            "Requirement already satisfied: sniffio in /usr/local/lib/python3.10/dist-packages (from openai) (1.3.1)\n",
            "Requirement already satisfied: tqdm>4 in /usr/local/lib/python3.10/dist-packages (from openai) (4.66.5)\n",
            "Requirement already satisfied: typing-extensions<5,>=4.11 in /usr/local/lib/python3.10/dist-packages (from openai) (4.12.2)\n",
            "Requirement already satisfied: idna>=2.8 in /usr/local/lib/python3.10/dist-packages (from anyio<5,>=3.5.0->openai) (3.10)\n",
            "Requirement already satisfied: exceptiongroup in /usr/local/lib/python3.10/dist-packages (from anyio<5,>=3.5.0->openai) (1.2.2)\n",
            "Requirement already satisfied: certifi in /usr/local/lib/python3.10/dist-packages (from httpx<1,>=0.23.0->openai) (2024.8.30)\n",
            "Collecting httpcore==1.* (from httpx<1,>=0.23.0->openai)\n",
            "  Downloading httpcore-1.0.6-py3-none-any.whl.metadata (21 kB)\n",
            "Collecting h11<0.15,>=0.13 (from httpcore==1.*->httpx<1,>=0.23.0->openai)\n",
            "  Downloading h11-0.14.0-py3-none-any.whl.metadata (8.2 kB)\n",
            "Requirement already satisfied: annotated-types>=0.6.0 in /usr/local/lib/python3.10/dist-packages (from pydantic<3,>=1.9.0->openai) (0.7.0)\n",
            "Requirement already satisfied: pydantic-core==2.23.4 in /usr/local/lib/python3.10/dist-packages (from pydantic<3,>=1.9.0->openai) (2.23.4)\n",
            "Downloading openai-1.51.0-py3-none-any.whl (383 kB)\n",
            "\u001b[2K   \u001b[90m━━━━━━━━━━━━━━━━━━━━━━━━━━━━━━━━━━━━━━━━\u001b[0m \u001b[32m383.5/383.5 kB\u001b[0m \u001b[31m7.0 MB/s\u001b[0m eta \u001b[36m0:00:00\u001b[0m\n",
            "\u001b[?25hDownloading httpx-0.27.2-py3-none-any.whl (76 kB)\n",
            "\u001b[2K   \u001b[90m━━━━━━━━━━━━━━━━━━━━━━━━━━━━━━━━━━━━━━━━\u001b[0m \u001b[32m76.4/76.4 kB\u001b[0m \u001b[31m6.0 MB/s\u001b[0m eta \u001b[36m0:00:00\u001b[0m\n",
            "\u001b[?25hDownloading httpcore-1.0.6-py3-none-any.whl (78 kB)\n",
            "\u001b[2K   \u001b[90m━━━━━━━━━━━━━━━━━━━━━━━━━━━━━━━━━━━━━━━━\u001b[0m \u001b[32m78.0/78.0 kB\u001b[0m \u001b[31m5.7 MB/s\u001b[0m eta \u001b[36m0:00:00\u001b[0m\n",
            "\u001b[?25hDownloading jiter-0.5.0-cp310-cp310-manylinux_2_17_x86_64.manylinux2014_x86_64.whl (318 kB)\n",
            "\u001b[2K   \u001b[90m━━━━━━━━━━━━━━━━━━━━━━━━━━━━━━━━━━━━━━━━\u001b[0m \u001b[32m318.9/318.9 kB\u001b[0m \u001b[31m15.3 MB/s\u001b[0m eta \u001b[36m0:00:00\u001b[0m\n",
            "\u001b[?25hDownloading h11-0.14.0-py3-none-any.whl (58 kB)\n",
            "\u001b[2K   \u001b[90m━━━━━━━━━━━━━━━━━━━━━━━━━━━━━━━━━━━━━━━━\u001b[0m \u001b[32m58.3/58.3 kB\u001b[0m \u001b[31m5.0 MB/s\u001b[0m eta \u001b[36m0:00:00\u001b[0m\n",
            "\u001b[?25hInstalling collected packages: jiter, h11, httpcore, httpx, openai\n",
            "Successfully installed h11-0.14.0 httpcore-1.0.6 httpx-0.27.2 jiter-0.5.0 openai-1.51.0\n"
          ]
        }
      ],
      "source": [
        "!pip install openai"
      ]
    },
    {
      "cell_type": "markdown",
      "source": [
        "## 1. 정보 수집"
      ],
      "metadata": {
        "id": "sJ54kOwWUz2-"
      }
    },
    {
      "cell_type": "code",
      "source": [
        "import os\n",
        "os.environ['OPENAI_API_KEY'] =  \"여러분들의 Key 값\""
      ],
      "metadata": {
        "id": "8ndDUkGqQ4qC"
      },
      "execution_count": null,
      "outputs": []
    },
    {
      "cell_type": "code",
      "source": [
        "from openai import OpenAI"
      ],
      "metadata": {
        "id": "UK4bPBfJQeWI"
      },
      "execution_count": null,
      "outputs": []
    },
    {
      "cell_type": "code",
      "source": [
        "client = OpenAI()"
      ],
      "metadata": {
        "id": "2h5Vlr6QQfVf"
      },
      "execution_count": null,
      "outputs": []
    },
    {
      "cell_type": "code",
      "source": [
        "system_prompt = \"\"\"\n",
        "\n",
        "당신은 검색된 문서부터 질문의 답변을 작성하는 언어 모델입니다.\n",
        "\n",
        "### 지시사항\n",
        "당신은 사용자로부터 선반 랙의 높이, 길이, 깊이를 확정받아서 검색을 수행하는 챗봇입니다.\n",
        "\n",
        "1. 사용자가 행거의 높이(세로), 길이(가로), 깊이 이 세 가지 값을 모두 확정할 때까지 사용자에게 반문하세요. 이는 가장 중요합니다. 모든 것이 결정될 때까지 반문하십시오.\n",
        "2. 단수 추가를 요청하는 경우 1세트 설치 시 2~3cm 여유공간이 필요하다고 안내하세요.\n",
        "3. 모든 것이 확정되면 검색을 수행합니다. 검색은 'https://www.google.com/search?q=' 다음에 '선반+길이 정수+높이 정수+너비 정수'와 같이 최종 파라미터 값을 결정하여 호출하세요.\n",
        "4. 검색을 할 때는 선반을 추천해드리겠다고 언급하고 다음 줄에 검색: 이라는 단어를 붙이고 주소를 완성합니다.\n",
        "\n",
        "예시)\n",
        "\n",
        "User: 길이 3000, 높이 2100의 선반 랙을 사려고합니다.\n",
        "Assistant: 네, 설치하고자 하는 선반 랙의 길이가 3000, 높이 2100이 맞으실까요? 깊이에 대한 정보도 알려주시면 선반을 검색해드리겠습니다.\n",
        "User: 실제 공간 총 높이는 2300인데 조금 비워두려고 2100으로 하려합니다. 그리고 향후에 단수 추가되는 부분도 추가로 구성이 가능할까요?\n",
        "Assistant: 1세트 설치 시 2~3cm 여유공간이 필요하신 점 참고 부탁드립니다.깊이는 500 정도로 괜찮으실까요?\n",
        "User: 깊이는 700이 좋겠습니다.\n",
        "Assistant: 네, 선반을 추천해드릴게요.\n",
        "검색: https://www.google.com/search?q=선반+800+600+2100\n",
        "\"\"\"\n",
        "\n",
        "user_prompt = \"\"\"\"\"\"\n",
        "\n",
        "response = client.chat.completions.create(\n",
        "  model=\"gpt-4o\",\n",
        "  messages=[\n",
        "    {\"role\": \"system\", \"content\": system_prompt},\n",
        "    {\"role\": \"user\", \"content\": user_prompt}\n",
        "  ],\n",
        "  temperature=0\n",
        ")\n",
        "\n",
        "print(response.choices[0].message.content)"
      ],
      "metadata": {
        "colab": {
          "base_uri": "https://localhost:8080/"
        },
        "id": "QVKDIYPjQ6wJ",
        "outputId": "8ae1ab1f-280d-4ffa-d5ea-036479ca1360"
      },
      "execution_count": null,
      "outputs": [
        {
          "output_type": "stream",
          "name": "stdout",
          "text": [
            "안녕하세요! 선반 랙을 구매하시려는군요. 설치하고자 하는 선반 랙의 높이(세로), 길이(가로), 깊이를 알려주시면 검색을 도와드리겠습니다. 우선 어느 정도의 길이를 생각하고 계신가요?\n"
          ]
        }
      ]
    },
    {
      "cell_type": "code",
      "source": [
        "response = client.chat.completions.create(\n",
        "  model=\"gpt-4o\",\n",
        "  messages=[\n",
        "    {\"role\": \"system\", \"content\": system_prompt},\n",
        "    {\"role\": \"assistant\", \"content\": \"안녕하세요! 선반 랙의 높이, 길이, 깊이를 알려주시면 검색을 도와드리겠습니다. 먼저, 선반 랙의 길이(가로)는 어떻게 되나요?\"},\n",
        "    {\"role\": \"user\", \"content\": \"아 선반 랙은 분홍색으로 찾고 있는데 높이는 1500 정도가 좋겠어요.\"} # 현재 질문\n",
        "  ],\n",
        "  temperature=0\n",
        ")\n",
        "\n",
        "print(response.choices[0].message.content)"
      ],
      "metadata": {
        "colab": {
          "base_uri": "https://localhost:8080/"
        },
        "id": "wE-rCge_Tjtk",
        "outputId": "5e8d6257-f934-4b66-d3ac-e244285ac7df"
      },
      "execution_count": null,
      "outputs": [
        {
          "output_type": "stream",
          "name": "stdout",
          "text": [
            "네, 선반 랙의 높이가 1500으로 설정하셨군요. 길이(가로)와 깊이(세로)에 대한 정보도 알려주시면 검색을 도와드리겠습니다.\n"
          ]
        }
      ]
    },
    {
      "cell_type": "code",
      "source": [
        "response = client.chat.completions.create(\n",
        "  model=\"gpt-4o\",\n",
        "  messages=[\n",
        "    {\"role\": \"system\", \"content\": system_prompt},\n",
        "    {\"role\": \"assistant\", \"content\": \"안녕하세요! 선반 랙의 높이, 길이, 깊이를 알려주시면 검색을 도와드리겠습니다. 먼저, 선반 랙의 길이(가로)는 어떻게 되나요?\"},\n",
        "    {\"role\": \"user\", \"content\": \"아 선반 랙은 분홍색으로 찾고 있는데 높이는 1500 정도가 좋겠어요.\"},\n",
        "    {\"role\": \"assistant\", \"content\": \"네, 선반 랙의 높이는 1500으로 확인했습니다. 길이(가로)와 깊이(세로)도 알려주시면 검색을 도와드리겠습니다. 길이는 어떻게 되나요?\"},\n",
        "    {\"role\": \"user\", \"content\": \"음 고민해볼게요. 혹시 향후에 단수 추가되는 부분도 추가로 구성이 가능할까요?\"}, # 현재 질문\n",
        "  ],\n",
        "  temperature=0\n",
        ")\n",
        "\n",
        "print(response.choices[0].message.content)"
      ],
      "metadata": {
        "colab": {
          "base_uri": "https://localhost:8080/"
        },
        "id": "-JBKLm4TTz3C",
        "outputId": "e9811b1e-2baa-4a58-8750-80ab2a6ed75e"
      },
      "execution_count": null,
      "outputs": [
        {
          "output_type": "stream",
          "name": "stdout",
          "text": [
            "1세트 설치 시 2~3cm 여유공간이 필요하신 점 참고 부탁드립니다. 길이와 깊이를 확정하시면 검색을 도와드리겠습니다. 길이와 깊이는 어떻게 되시나요?\n"
          ]
        }
      ]
    },
    {
      "cell_type": "code",
      "source": [
        "response = client.chat.completions.create(\n",
        "  model=\"gpt-4o\",\n",
        "  messages=[\n",
        "    {\"role\": \"system\", \"content\": system_prompt},\n",
        "    {\"role\": \"assistant\", \"content\": \"안녕하세요! 선반 랙의 높이, 길이, 깊이를 알려주시면 검색을 도와드리겠습니다. 먼저, 선반 랙의 길이(가로)는 어떻게 되나요?\"},\n",
        "    {\"role\": \"user\", \"content\": \"아 선반 랙은 분홍색으로 찾고 있는데 높이는 1500 정도가 좋겠어요.\"},\n",
        "    {\"role\": \"assistant\", \"content\": \"네, 선반 랙의 높이는 1500으로 확인했습니다. 길이(가로)와 깊이(세로)도 알려주시면 검색을 도와드리겠습니다. 길이는 어떻게 되나요?\"},\n",
        "    {\"role\": \"user\", \"content\": \"음 고민해볼게요. 혹시 향후에 단수 추가되는 부분도 추가로 구성이 가능할까요?\"},\n",
        "    {\"role\": \"assistant\", \"content\": \"네, 1세트 설치 시 2~3cm 여유공간이 필요하신 점 참고 부탁드립니다. 길이와 깊이를 확정해주시면 검색을 도와드리겠습니다. 길이와 깊이는 어떻게 되나요?\"},\n",
        "    {\"role\": \"user\", \"content\": \"아 정정할게요. 높이는 1200, 길이는 2000으로요.\"} # 현재 질문\n",
        "  ],\n",
        "  temperature=0\n",
        ")\n",
        "\n",
        "print(response.choices[0].message.content)"
      ],
      "metadata": {
        "colab": {
          "base_uri": "https://localhost:8080/"
        },
        "id": "OV3Krel7UE1r",
        "outputId": "28adf007-98a8-4ed8-c743-ad40a8bf0e56"
      },
      "execution_count": null,
      "outputs": [
        {
          "output_type": "stream",
          "name": "stdout",
          "text": [
            "네, 선반 랙의 높이는 1200, 길이는 2000으로 확인했습니다. 깊이에 대한 정보도 알려주시면 선반을 검색해드리겠습니다. 깊이는 어떻게 되나요?\n"
          ]
        }
      ]
    },
    {
      "cell_type": "code",
      "source": [
        "response = client.chat.completions.create(\n",
        "  model=\"gpt-4o\",\n",
        "  messages=[\n",
        "    {\"role\": \"system\", \"content\": system_prompt},\n",
        "    {\"role\": \"assistant\", \"content\": \"안녕하세요! 선반 랙의 높이, 길이, 깊이를 알려주시면 검색을 도와드리겠습니다. 먼저, 선반 랙의 길이(가로)는 어떻게 되나요?\"},\n",
        "    {\"role\": \"user\", \"content\": \"아 선반 랙은 분홍색으로 찾고 있는데 높이는 1500 정도가 좋겠어요.\"},\n",
        "    {\"role\": \"assistant\", \"content\": \"네, 선반 랙의 높이는 1500으로 확인했습니다. 길이(가로)와 깊이(세로)도 알려주시면 검색을 도와드리겠습니다. 길이는 어떻게 되나요?\"},\n",
        "    {\"role\": \"user\", \"content\": \"음 고민해볼게요. 혹시 향후에 단수 추가되는 부분도 추가로 구성이 가능할까요?\"},\n",
        "    {\"role\": \"assistant\", \"content\": \"네, 1세트 설치 시 2~3cm 여유공간이 필요하신 점 참고 부탁드립니다. 길이와 깊이를 확정해주시면 검색을 도와드리겠습니다. 길이와 깊이는 어떻게 되나요?\"},\n",
        "    {\"role\": \"user\", \"content\": \"아 정정할게요. 높이는 1200, 길이는 2000으로요.\"},\n",
        "    {\"role\": \"assistant\", \"content\": \"네, 선반 랙의 높이는 1200, 길이는 2000으로 확인했습니다. 이제 깊이(세로)만 알려주시면 검색을 도와드리겠습니다. 깊이는 어떻게 되나요?\"},\n",
        "    {\"role\": \"user\", \"content\": \"깊이 추천 좀 해주세요.\"} # 현재 질문\n",
        "  ],\n",
        "  temperature=0\n",
        ")\n",
        "\n",
        "print(response.choices[0].message.content)"
      ],
      "metadata": {
        "colab": {
          "base_uri": "https://localhost:8080/"
        },
        "id": "nggwEGn5UP-z",
        "outputId": "8c10d584-2a16-4d51-df0c-520798dacfc5"
      },
      "execution_count": null,
      "outputs": [
        {
          "output_type": "stream",
          "name": "stdout",
          "text": [
            "일반적으로 선반 랙의 깊이는 300mm에서 600mm 사이가 많이 사용됩니다. 사용하실 공간과 용도에 따라 선택하시면 좋을 것 같습니다. 예를 들어, 일반적인 수납용으로는 400mm~500mm 정도가 적당할 수 있습니다. 깊이를 어느 정도로 하시겠습니까?\n"
          ]
        }
      ]
    },
    {
      "cell_type": "code",
      "source": [
        "response = client.chat.completions.create(\n",
        "  model=\"gpt-4o\",\n",
        "  messages=[\n",
        "    {\"role\": \"system\", \"content\": system_prompt},\n",
        "    {\"role\": \"assistant\", \"content\": \"안녕하세요! 선반 랙의 높이, 길이, 깊이를 알려주시면 검색을 도와드리겠습니다. 먼저, 선반 랙의 길이(가로)는 어떻게 되나요?\"},\n",
        "    {\"role\": \"user\", \"content\": \"아 선반 랙은 분홍색으로 찾고 있는데 높이는 1500 정도가 좋겠어요.\"},\n",
        "    {\"role\": \"assistant\", \"content\": \"네, 선반 랙의 높이는 1500으로 확인했습니다. 길이(가로)와 깊이(세로)도 알려주시면 검색을 도와드리겠습니다. 길이는 어떻게 되나요?\"},\n",
        "    {\"role\": \"user\", \"content\": \"음 고민해볼게요. 혹시 향후에 단수 추가되는 부분도 추가로 구성이 가능할까요?\"},\n",
        "    {\"role\": \"assistant\", \"content\": \"네, 1세트 설치 시 2~3cm 여유공간이 필요하신 점 참고 부탁드립니다. 길이와 깊이를 확정해주시면 검색을 도와드리겠습니다. 길이와 깊이는 어떻게 되나요?\"},\n",
        "    {\"role\": \"user\", \"content\": \"아 정정할게요. 높이는 1200, 길이는 2000으로요.\"},\n",
        "    {\"role\": \"assistant\", \"content\": \"네, 선반 랙의 높이는 1200, 길이는 2000으로 확인했습니다. 이제 깊이(세로)만 알려주시면 검색을 도와드리겠습니다. 깊이는 어떻게 되나요?\"},\n",
        "    {\"role\": \"user\", \"content\": \"깊이 추천 좀 해주세요.\"},\n",
        "    {\"role\": \"assistant\", \"content\": \"일반적으로 선반 랙의 깊이는 300mm, 450mm, 600mm 등이 많이 사용됩니다. 사용 용도에 따라 다르겠지만, 일반적인 가정용이나 사무실용으로는 450mm 정도가 적당할 수 있습니다. 이 깊이로 괜찮으실까요? 아니면 다른 깊이를 원하시는지 알려주세요.\"},\n",
        "    {\"role\": \"user\", \"content\": \"사무실 용이 좋겠습니다.\"} # 현재 질문\n",
        "  ],\n",
        "  temperature=0\n",
        ")\n",
        "\n",
        "print(response.choices[0].message.content)"
      ],
      "metadata": {
        "colab": {
          "base_uri": "https://localhost:8080/"
        },
        "id": "mz0tCv87UdWy",
        "outputId": "a5f392a5-1443-4e15-87ca-d940229cbd56"
      },
      "execution_count": null,
      "outputs": [
        {
          "output_type": "stream",
          "name": "stdout",
          "text": [
            "네, 사무실 용도로 깊이 450mm로 설정하겠습니다. 이제 선반을 추천해드릴게요.\n",
            "\n",
            "검색: https://www.google.com/search?q=선반+2000+1200+450\n"
          ]
        }
      ]
    },
    {
      "cell_type": "markdown",
      "source": [
        "여기서 RAG 등 수행하셔서 검색 결과 얻으면 다시 GPT-4에 전달주시면 됩니다."
      ],
      "metadata": {
        "id": "o9-iF7utU7gm"
      }
    },
    {
      "cell_type": "markdown",
      "source": [
        "아래와 같이 검색 결과를 얻었다고 가정해봅시다."
      ],
      "metadata": {
        "id": "YRFS8xCiVg-h"
      }
    },
    {
      "cell_type": "markdown",
      "source": [
        "```python\n",
        "{\n",
        "  \"hangerRacks\": [\n",
        "    {\n",
        "      \"id\": \"HR001\",\n",
        "      \"description\": \"5-tier hanger rack\",\n",
        "      \"dimensions\": {\n",
        "        \"width\": 800,\n",
        "        \"depth\": 600,\n",
        "        \"height\": 2100\n",
        "      },\n",
        "      \"tiers\": 5,\n",
        "      \"quantity\": 2,\n",
        "      \"material\": \"Steel\",\n",
        "      \"color\": \"Black\",\n",
        "      \"loadCapacityPerTier\": 50,\n",
        "      \"totalLoadCapacity\": 250,\n",
        "      \"features\": [\n",
        "        \"Adjustable shelves\",\n",
        "        \"Anti-rust coating\",\n",
        "        \"Non-slip feet\"\n",
        "      ]\n",
        "    },\n",
        "    {\n",
        "      \"id\": \"HR002\",\n",
        "      \"description\": \"3-tier double hanger rack\",\n",
        "      \"dimensions\": {\n",
        "        \"width\": 800,\n",
        "        \"depth\": 600,\n",
        "        \"height\": 2100\n",
        "      },\n",
        "      \"tiers\": 3,\n",
        "      \"quantity\": 2,\n",
        "      \"material\": \"Steel\",\n",
        "      \"color\": \"White\",\n",
        "      \"loadCapacityPerTier\": 40,\n",
        "      \"totalLoadCapacity\": 240,\n",
        "      \"features\": [\n",
        "        \"Double hanging rods\",\n",
        "        \"Wheels for mobility\",\n",
        "        \"Adjustable height\"\n",
        "      ]\n",
        "    }\n",
        "  ]\n",
        "}\n",
        "```"
      ],
      "metadata": {
        "id": "tnxY2jOsVfk9"
      }
    },
    {
      "cell_type": "markdown",
      "source": [
        "## 2. 검색 결과를 바탕으로 답변"
      ],
      "metadata": {
        "id": "aQ56RnleU2YF"
      }
    },
    {
      "cell_type": "code",
      "source": [
        "search_result = '''{\n",
        "  \"hangerRacks\": [\n",
        "    {\n",
        "      \"id\": \"HR001\",\n",
        "      \"description\": \"5-tier hanger rack\",\n",
        "      \"dimensions\": {\n",
        "        \"width\": 800,\n",
        "        \"depth\": 600,\n",
        "        \"height\": 2100\n",
        "      },\n",
        "      \"tiers\": 5,\n",
        "      \"quantity\": 2,\n",
        "      \"material\": \"Steel\",\n",
        "      \"color\": \"Black\",\n",
        "      \"loadCapacityPerTier\": 50,\n",
        "      \"totalLoadCapacity\": 250,\n",
        "      \"features\": [\n",
        "        \"Adjustable shelves\",\n",
        "        \"Anti-rust coating\",\n",
        "        \"Non-slip feet\"\n",
        "      ]\n",
        "    },\n",
        "    {\n",
        "      \"id\": \"HR002\",\n",
        "      \"description\": \"3-tier double hanger rack\",\n",
        "      \"dimensions\": {\n",
        "        \"width\": 800,\n",
        "        \"depth\": 600,\n",
        "        \"height\": 2100\n",
        "      },\n",
        "      \"tiers\": 3,\n",
        "      \"quantity\": 2,\n",
        "      \"material\": \"Steel\",\n",
        "      \"color\": \"White\",\n",
        "      \"loadCapacityPerTier\": 40,\n",
        "      \"totalLoadCapacity\": 240,\n",
        "      \"features\": [\n",
        "        \"Double hanging rods\",\n",
        "        \"Wheels for mobility\",\n",
        "        \"Adjustable height\"\n",
        "      ]\n",
        "    }\n",
        "  ]\n",
        "}'''"
      ],
      "metadata": {
        "id": "01ytQHGDVj5l"
      },
      "execution_count": null,
      "outputs": []
    },
    {
      "cell_type": "code",
      "source": [
        "response = client.chat.completions.create(\n",
        "  model=\"gpt-4o\",\n",
        "  messages=[\n",
        "    {\"role\": \"system\", \"content\": system_prompt},\n",
        "    {\"role\": \"assistant\", \"content\": \"안녕하세요! 선반 랙의 높이, 길이, 깊이를 알려주시면 검색을 도와드리겠습니다. 먼저, 선반 랙의 길이(가로)는 어떻게 되나요?\"},\n",
        "    {\"role\": \"user\", \"content\": \"아 선반 랙은 분홍색으로 찾고 있는데 높이는 1500 정도가 좋겠어요.\"},\n",
        "    {\"role\": \"assistant\", \"content\": \"네, 선반 랙의 높이는 1500으로 확인했습니다. 길이(가로)와 깊이(세로)도 알려주시면 검색을 도와드리겠습니다. 길이는 어떻게 되나요?\"},\n",
        "    {\"role\": \"user\", \"content\": \"음 고민해볼게요. 혹시 향후에 단수 추가되는 부분도 추가로 구성이 가능할까요?\"},\n",
        "    {\"role\": \"assistant\", \"content\": \"네, 1세트 설치 시 2~3cm 여유공간이 필요하신 점 참고 부탁드립니다. 길이와 깊이를 확정해주시면 검색을 도와드리겠습니다. 길이와 깊이는 어떻게 되나요?\"},\n",
        "    {\"role\": \"user\", \"content\": \"아 정정할게요. 높이는 1200, 길이는 2000으로요.\"},\n",
        "    {\"role\": \"assistant\", \"content\": \"네, 선반 랙의 높이는 1200, 길이는 2000으로 확인했습니다. 이제 깊이(세로)만 알려주시면 검색을 도와드리겠습니다. 깊이는 어떻게 되나요?\"},\n",
        "    {\"role\": \"user\", \"content\": \"깊이 추천 좀 해주세요.\"},\n",
        "    {\"role\": \"assistant\", \"content\": \"일반적으로 선반 랙의 깊이는 300mm, 450mm, 600mm 등이 많이 사용됩니다. 사용 용도에 따라 다르겠지만, 일반적인 가정용이나 사무실용으로는 450mm 정도가 적당할 수 있습니다. 이 깊이로 괜찮으실까요? 아니면 다른 깊이를 원하시는지 알려주세요.\"},\n",
        "    {\"role\": \"user\", \"content\": \"사무실 용이 좋겠습니다.\"},\n",
        "    {\"role\": \"assistant\", \"content\": \"네, 사무실 용도로 깊이 450mm로 설정하겠습니다. 최종적으로 선반 랙의 높이는 1200, 길이는 2000, 깊이는 450으로 확인되었습니다. 이제 선반을 추천해드릴게요. 검색: https://www.google.com/search?q=선반+2000+1200+450\"},\n",
        "    {\"role\": \"user\", \"content\": \"검색 결과: \" + search_result + \"자 이제 검색 결과를 바탕으로 사용자에게 전형적인 LLM 답변을 작성하세요.\"},\n",
        "  ],\n",
        "  temperature=0\n",
        ")\n",
        "\n",
        "print(response.choices[0].message.content)"
      ],
      "metadata": {
        "colab": {
          "base_uri": "https://localhost:8080/"
        },
        "id": "-8lcjAX-U-10",
        "outputId": "4c249c1e-9add-4a3f-81b8-98ba1b22b1b3"
      },
      "execution_count": null,
      "outputs": [
        {
          "output_type": "stream",
          "name": "stdout",
          "text": [
            "검색 결과를 바탕으로 몇 가지 선반 랙을 추천해드리겠습니다. 아래 두 가지 옵션을 확인해보세요:\n",
            "\n",
            "1. **5-tier Hanger Rack (모델 ID: HR001)**\n",
            "   - **설명**: 5단 행거 랙\n",
            "   - **크기**: 가로 800mm, 깊이 600mm, 높이 2100mm\n",
            "   - **단수**: 5단\n",
            "   - **수량**: 2개\n",
            "   - **재질**: 스틸\n",
            "   - **색상**: 검정색\n",
            "   - **하중 용량**: 단당 50kg, 총 250kg\n",
            "   - **특징**:\n",
            "     - 조절 가능한 선반\n",
            "     - 방청 코팅\n",
            "     - 미끄럼 방지 발\n",
            "\n",
            "2. **3-tier Double Hanger Rack (모델 ID: HR002)**\n",
            "   - **설명**: 3단 더블 행거 랙\n",
            "   - **크기**: 가로 800mm, 깊이 600mm, 높이 2100mm\n",
            "   - **단수**: 3단\n",
            "   - **수량**: 2개\n",
            "   - **재질**: 스틸\n",
            "   - **색상**: 흰색\n",
            "   - **하중 용량**: 단당 40kg, 총 240kg\n",
            "   - **특징**:\n",
            "     - 더블 행거 막대\n",
            "     - 이동성을 위한 바퀴\n",
            "     - 조절 가능한 높이\n",
            "\n",
            "이 두 가지 옵션 중에서 필요에 맞는 선반 랙을 선택하시면 좋을 것 같습니다. 추가로 궁금한 사항이 있으시면 언제든지 문의해주세요!\n"
          ]
        }
      ]
    }
  ]
}